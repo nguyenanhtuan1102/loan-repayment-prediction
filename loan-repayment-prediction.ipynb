{
 "cells": [
  {
   "cell_type": "markdown",
   "id": "d2695c76-a7b7-46ea-b060-82d87bcf13aa",
   "metadata": {},
   "source": [
    "# **Import Libraries**"
   ]
  },
  {
   "cell_type": "code",
   "execution_count": 26,
   "id": "228115e5-f019-41e5-84e9-0a66f77f590f",
   "metadata": {},
   "outputs": [],
   "source": [
    "import pandas as pd\n",
    "import numpy as np\n",
    "import matplotlib.pyplot as plt\n",
    "import seaborn as sn\n",
    "from imblearn.over_sampling import SMOTE"
   ]
  },
  {
   "cell_type": "markdown",
   "id": "8e81c793-c71c-4b2e-92c4-7ebda8218327",
   "metadata": {},
   "source": [
    "# **Load Data**"
   ]
  },
  {
   "cell_type": "code",
   "execution_count": 2,
   "id": "03b98771-8b7d-4e92-857e-2100b58a4dd6",
   "metadata": {},
   "outputs": [],
   "source": [
    "df = pd.read_csv(\"loan_data.csv\")"
   ]
  },
  {
   "cell_type": "code",
   "execution_count": 3,
   "id": "c967551d-25a4-4282-9203-ea2408551676",
   "metadata": {},
   "outputs": [
    {
     "data": {
      "text/html": [
       "<div>\n",
       "<style scoped>\n",
       "    .dataframe tbody tr th:only-of-type {\n",
       "        vertical-align: middle;\n",
       "    }\n",
       "\n",
       "    .dataframe tbody tr th {\n",
       "        vertical-align: top;\n",
       "    }\n",
       "\n",
       "    .dataframe thead th {\n",
       "        text-align: right;\n",
       "    }\n",
       "</style>\n",
       "<table border=\"1\" class=\"dataframe\">\n",
       "  <thead>\n",
       "    <tr style=\"text-align: right;\">\n",
       "      <th></th>\n",
       "      <th>credit_policy</th>\n",
       "      <th>purpose</th>\n",
       "      <th>int_rate</th>\n",
       "      <th>installment</th>\n",
       "      <th>log_annual_inc</th>\n",
       "      <th>dti</th>\n",
       "      <th>fico</th>\n",
       "      <th>days_with_cr_line</th>\n",
       "      <th>revol_bal</th>\n",
       "      <th>revol_util</th>\n",
       "      <th>inq_last_6mths</th>\n",
       "      <th>delinq_2yrs</th>\n",
       "      <th>pub_rec</th>\n",
       "      <th>not_fully_paid</th>\n",
       "    </tr>\n",
       "  </thead>\n",
       "  <tbody>\n",
       "    <tr>\n",
       "      <th>0</th>\n",
       "      <td>1</td>\n",
       "      <td>credit_card</td>\n",
       "      <td>0.143</td>\n",
       "      <td>498.35</td>\n",
       "      <td>150000.0</td>\n",
       "      <td>15.70</td>\n",
       "      <td>694</td>\n",
       "      <td>37865</td>\n",
       "      <td>19748</td>\n",
       "      <td>0.674</td>\n",
       "      <td>3</td>\n",
       "      <td>5.0</td>\n",
       "      <td>0</td>\n",
       "      <td>0</td>\n",
       "    </tr>\n",
       "    <tr>\n",
       "      <th>1</th>\n",
       "      <td>1</td>\n",
       "      <td>home_improvement</td>\n",
       "      <td>0.110</td>\n",
       "      <td>870.29</td>\n",
       "      <td>55000.0</td>\n",
       "      <td>30.13</td>\n",
       "      <td>734</td>\n",
       "      <td>35947</td>\n",
       "      <td>11898</td>\n",
       "      <td>0.476</td>\n",
       "      <td>2</td>\n",
       "      <td>1.0</td>\n",
       "      <td>0</td>\n",
       "      <td>0</td>\n",
       "    </tr>\n",
       "    <tr>\n",
       "      <th>2</th>\n",
       "      <td>1</td>\n",
       "      <td>credit_card</td>\n",
       "      <td>0.088</td>\n",
       "      <td>785.32</td>\n",
       "      <td>165000.0</td>\n",
       "      <td>16.11</td>\n",
       "      <td>694</td>\n",
       "      <td>36373</td>\n",
       "      <td>20681</td>\n",
       "      <td>0.567</td>\n",
       "      <td>0</td>\n",
       "      <td>0.0</td>\n",
       "      <td>0</td>\n",
       "      <td>0</td>\n",
       "    </tr>\n",
       "    <tr>\n",
       "      <th>3</th>\n",
       "      <td>1</td>\n",
       "      <td>credit_card</td>\n",
       "      <td>0.170</td>\n",
       "      <td>285.03</td>\n",
       "      <td>40000.0</td>\n",
       "      <td>32.07</td>\n",
       "      <td>744</td>\n",
       "      <td>40269</td>\n",
       "      <td>8514</td>\n",
       "      <td>0.226</td>\n",
       "      <td>2</td>\n",
       "      <td>0.0</td>\n",
       "      <td>0</td>\n",
       "      <td>0</td>\n",
       "    </tr>\n",
       "    <tr>\n",
       "      <th>4</th>\n",
       "      <td>1</td>\n",
       "      <td>debt_consolidation</td>\n",
       "      <td>0.088</td>\n",
       "      <td>570.81</td>\n",
       "      <td>36000.0</td>\n",
       "      <td>23.73</td>\n",
       "      <td>714</td>\n",
       "      <td>38565</td>\n",
       "      <td>7555</td>\n",
       "      <td>0.256</td>\n",
       "      <td>1</td>\n",
       "      <td>0.0</td>\n",
       "      <td>0</td>\n",
       "      <td>1</td>\n",
       "    </tr>\n",
       "  </tbody>\n",
       "</table>\n",
       "</div>"
      ],
      "text/plain": [
       "   credit_policy             purpose  int_rate  installment  log_annual_inc  \\\n",
       "0              1         credit_card     0.143       498.35        150000.0   \n",
       "1              1    home_improvement     0.110       870.29         55000.0   \n",
       "2              1         credit_card     0.088       785.32        165000.0   \n",
       "3              1         credit_card     0.170       285.03         40000.0   \n",
       "4              1  debt_consolidation     0.088       570.81         36000.0   \n",
       "\n",
       "     dti  fico  days_with_cr_line  revol_bal  revol_util  inq_last_6mths  \\\n",
       "0  15.70   694              37865      19748       0.674               3   \n",
       "1  30.13   734              35947      11898       0.476               2   \n",
       "2  16.11   694              36373      20681       0.567               0   \n",
       "3  32.07   744              40269       8514       0.226               2   \n",
       "4  23.73   714              38565       7555       0.256               1   \n",
       "\n",
       "   delinq_2yrs  pub_rec  not_fully_paid  \n",
       "0          5.0        0               0  \n",
       "1          1.0        0               0  \n",
       "2          0.0        0               0  \n",
       "3          0.0        0               0  \n",
       "4          0.0        0               1  "
      ]
     },
     "execution_count": 3,
     "metadata": {},
     "output_type": "execute_result"
    }
   ],
   "source": [
    "df.head()"
   ]
  },
  {
   "cell_type": "code",
   "execution_count": 4,
   "id": "ee3d56e5-98da-4cf8-b781-fb9c9970cec2",
   "metadata": {},
   "outputs": [
    {
     "data": {
      "text/plain": [
       "purpose\n",
       "debt_consolidation    19595\n",
       "credit_card            9113\n",
       "home_improvement       2847\n",
       "other                  2508\n",
       "major_purchase          905\n",
       "medical                 466\n",
       "house                   410\n",
       "car                     385\n",
       "vacation                314\n",
       "small_business          272\n",
       "moving                  236\n",
       "renewable_energy         15\n",
       "Name: count, dtype: int64"
      ]
     },
     "execution_count": 4,
     "metadata": {},
     "output_type": "execute_result"
    }
   ],
   "source": [
    "df[\"purpose\"].value_counts()"
   ]
  },
  {
   "cell_type": "markdown",
   "id": "9a09bc07-a5f5-45ad-a150-77865a1f7243",
   "metadata": {},
   "source": [
    "# **EDA**"
   ]
  },
  {
   "cell_type": "markdown",
   "id": "f4336300-74a5-440e-bbac-6fa38f0a35e8",
   "metadata": {},
   "source": [
    "### **Deal with NULL VALUES**"
   ]
  },
  {
   "cell_type": "code",
   "execution_count": 5,
   "id": "de15c45b-74c5-46aa-a0d3-97ea767405b3",
   "metadata": {},
   "outputs": [],
   "source": [
    "df.dropna(inplace=True)"
   ]
  },
  {
   "cell_type": "code",
   "execution_count": 6,
   "id": "beabf9e4-95e8-4b78-b4ec-1fd8bc85dadd",
   "metadata": {},
   "outputs": [
    {
     "data": {
      "text/html": [
       "<div>\n",
       "<style scoped>\n",
       "    .dataframe tbody tr th:only-of-type {\n",
       "        vertical-align: middle;\n",
       "    }\n",
       "\n",
       "    .dataframe tbody tr th {\n",
       "        vertical-align: top;\n",
       "    }\n",
       "\n",
       "    .dataframe thead th {\n",
       "        text-align: right;\n",
       "    }\n",
       "</style>\n",
       "<table border=\"1\" class=\"dataframe\">\n",
       "  <thead>\n",
       "    <tr style=\"text-align: right;\">\n",
       "      <th></th>\n",
       "      <th>credit_policy</th>\n",
       "      <th>purpose</th>\n",
       "      <th>int_rate</th>\n",
       "      <th>installment</th>\n",
       "      <th>log_annual_inc</th>\n",
       "      <th>dti</th>\n",
       "      <th>fico</th>\n",
       "      <th>days_with_cr_line</th>\n",
       "      <th>revol_bal</th>\n",
       "      <th>revol_util</th>\n",
       "      <th>inq_last_6mths</th>\n",
       "      <th>delinq_2yrs</th>\n",
       "      <th>pub_rec</th>\n",
       "      <th>not_fully_paid</th>\n",
       "    </tr>\n",
       "  </thead>\n",
       "  <tbody>\n",
       "    <tr>\n",
       "      <th>0</th>\n",
       "      <td>1</td>\n",
       "      <td>credit_card</td>\n",
       "      <td>0.143</td>\n",
       "      <td>498.35</td>\n",
       "      <td>150000.0</td>\n",
       "      <td>15.70</td>\n",
       "      <td>694</td>\n",
       "      <td>37865</td>\n",
       "      <td>19748</td>\n",
       "      <td>0.674</td>\n",
       "      <td>3</td>\n",
       "      <td>5.000</td>\n",
       "      <td>0</td>\n",
       "      <td>0</td>\n",
       "    </tr>\n",
       "    <tr>\n",
       "      <th>1</th>\n",
       "      <td>1</td>\n",
       "      <td>home_improvement</td>\n",
       "      <td>0.110</td>\n",
       "      <td>870.29</td>\n",
       "      <td>55000.0</td>\n",
       "      <td>30.13</td>\n",
       "      <td>734</td>\n",
       "      <td>35947</td>\n",
       "      <td>11898</td>\n",
       "      <td>0.476</td>\n",
       "      <td>2</td>\n",
       "      <td>1.000</td>\n",
       "      <td>0</td>\n",
       "      <td>0</td>\n",
       "    </tr>\n",
       "    <tr>\n",
       "      <th>2</th>\n",
       "      <td>1</td>\n",
       "      <td>credit_card</td>\n",
       "      <td>0.088</td>\n",
       "      <td>785.32</td>\n",
       "      <td>165000.0</td>\n",
       "      <td>16.11</td>\n",
       "      <td>694</td>\n",
       "      <td>36373</td>\n",
       "      <td>20681</td>\n",
       "      <td>0.567</td>\n",
       "      <td>0</td>\n",
       "      <td>0.000</td>\n",
       "      <td>0</td>\n",
       "      <td>0</td>\n",
       "    </tr>\n",
       "    <tr>\n",
       "      <th>3</th>\n",
       "      <td>1</td>\n",
       "      <td>credit_card</td>\n",
       "      <td>0.170</td>\n",
       "      <td>285.03</td>\n",
       "      <td>40000.0</td>\n",
       "      <td>32.07</td>\n",
       "      <td>744</td>\n",
       "      <td>40269</td>\n",
       "      <td>8514</td>\n",
       "      <td>0.226</td>\n",
       "      <td>2</td>\n",
       "      <td>0.000</td>\n",
       "      <td>0</td>\n",
       "      <td>0</td>\n",
       "    </tr>\n",
       "    <tr>\n",
       "      <th>4</th>\n",
       "      <td>1</td>\n",
       "      <td>debt_consolidation</td>\n",
       "      <td>0.088</td>\n",
       "      <td>570.81</td>\n",
       "      <td>36000.0</td>\n",
       "      <td>23.73</td>\n",
       "      <td>714</td>\n",
       "      <td>38565</td>\n",
       "      <td>7555</td>\n",
       "      <td>0.256</td>\n",
       "      <td>1</td>\n",
       "      <td>0.000</td>\n",
       "      <td>0</td>\n",
       "      <td>1</td>\n",
       "    </tr>\n",
       "    <tr>\n",
       "      <th>...</th>\n",
       "      <td>...</td>\n",
       "      <td>...</td>\n",
       "      <td>...</td>\n",
       "      <td>...</td>\n",
       "      <td>...</td>\n",
       "      <td>...</td>\n",
       "      <td>...</td>\n",
       "      <td>...</td>\n",
       "      <td>...</td>\n",
       "      <td>...</td>\n",
       "      <td>...</td>\n",
       "      <td>...</td>\n",
       "      <td>...</td>\n",
       "      <td>...</td>\n",
       "    </tr>\n",
       "    <tr>\n",
       "      <th>37061</th>\n",
       "      <td>1</td>\n",
       "      <td>debt_consolidation</td>\n",
       "      <td>0.088</td>\n",
       "      <td>792.79</td>\n",
       "      <td>167000.0</td>\n",
       "      <td>24.66</td>\n",
       "      <td>694</td>\n",
       "      <td>37895</td>\n",
       "      <td>0</td>\n",
       "      <td>0.000</td>\n",
       "      <td>25987</td>\n",
       "      <td>0.680</td>\n",
       "      <td>0</td>\n",
       "      <td>1</td>\n",
       "    </tr>\n",
       "    <tr>\n",
       "      <th>37062</th>\n",
       "      <td>1</td>\n",
       "      <td>debt_consolidation</td>\n",
       "      <td>0.103</td>\n",
       "      <td>856.40</td>\n",
       "      <td>125000.0</td>\n",
       "      <td>11.73</td>\n",
       "      <td>744</td>\n",
       "      <td>31444</td>\n",
       "      <td>0</td>\n",
       "      <td>0.000</td>\n",
       "      <td>1728</td>\n",
       "      <td>0.033</td>\n",
       "      <td>0</td>\n",
       "      <td>1</td>\n",
       "    </tr>\n",
       "    <tr>\n",
       "      <th>37063</th>\n",
       "      <td>1</td>\n",
       "      <td>small_business</td>\n",
       "      <td>0.180</td>\n",
       "      <td>837.45</td>\n",
       "      <td>75000.0</td>\n",
       "      <td>9.02</td>\n",
       "      <td>694</td>\n",
       "      <td>40878</td>\n",
       "      <td>3</td>\n",
       "      <td>0.000</td>\n",
       "      <td>636</td>\n",
       "      <td>0.038</td>\n",
       "      <td>0</td>\n",
       "      <td>1</td>\n",
       "    </tr>\n",
       "    <tr>\n",
       "      <th>37064</th>\n",
       "      <td>1</td>\n",
       "      <td>debt_consolidation</td>\n",
       "      <td>0.110</td>\n",
       "      <td>458.48</td>\n",
       "      <td>32072.0</td>\n",
       "      <td>58.12</td>\n",
       "      <td>779</td>\n",
       "      <td>39539</td>\n",
       "      <td>0</td>\n",
       "      <td>0.000</td>\n",
       "      <td>15016</td>\n",
       "      <td>0.289</td>\n",
       "      <td>0</td>\n",
       "      <td>1</td>\n",
       "    </tr>\n",
       "    <tr>\n",
       "      <th>37065</th>\n",
       "      <td>1</td>\n",
       "      <td>debt_consolidation</td>\n",
       "      <td>0.164</td>\n",
       "      <td>353.55</td>\n",
       "      <td>30000.0</td>\n",
       "      <td>14.16</td>\n",
       "      <td>699</td>\n",
       "      <td>38626</td>\n",
       "      <td>0</td>\n",
       "      <td>0.000</td>\n",
       "      <td>5453</td>\n",
       "      <td>0.682</td>\n",
       "      <td>0</td>\n",
       "      <td>1</td>\n",
       "    </tr>\n",
       "  </tbody>\n",
       "</table>\n",
       "<p>36920 rows × 14 columns</p>\n",
       "</div>"
      ],
      "text/plain": [
       "       credit_policy             purpose  int_rate  installment  \\\n",
       "0                  1         credit_card     0.143       498.35   \n",
       "1                  1    home_improvement     0.110       870.29   \n",
       "2                  1         credit_card     0.088       785.32   \n",
       "3                  1         credit_card     0.170       285.03   \n",
       "4                  1  debt_consolidation     0.088       570.81   \n",
       "...              ...                 ...       ...          ...   \n",
       "37061              1  debt_consolidation     0.088       792.79   \n",
       "37062              1  debt_consolidation     0.103       856.40   \n",
       "37063              1      small_business     0.180       837.45   \n",
       "37064              1  debt_consolidation     0.110       458.48   \n",
       "37065              1  debt_consolidation     0.164       353.55   \n",
       "\n",
       "       log_annual_inc    dti  fico  days_with_cr_line  revol_bal  revol_util  \\\n",
       "0            150000.0  15.70   694              37865      19748       0.674   \n",
       "1             55000.0  30.13   734              35947      11898       0.476   \n",
       "2            165000.0  16.11   694              36373      20681       0.567   \n",
       "3             40000.0  32.07   744              40269       8514       0.226   \n",
       "4             36000.0  23.73   714              38565       7555       0.256   \n",
       "...               ...    ...   ...                ...        ...         ...   \n",
       "37061        167000.0  24.66   694              37895          0       0.000   \n",
       "37062        125000.0  11.73   744              31444          0       0.000   \n",
       "37063         75000.0   9.02   694              40878          3       0.000   \n",
       "37064         32072.0  58.12   779              39539          0       0.000   \n",
       "37065         30000.0  14.16   699              38626          0       0.000   \n",
       "\n",
       "       inq_last_6mths  delinq_2yrs  pub_rec  not_fully_paid  \n",
       "0                   3        5.000        0               0  \n",
       "1                   2        1.000        0               0  \n",
       "2                   0        0.000        0               0  \n",
       "3                   2        0.000        0               0  \n",
       "4                   1        0.000        0               1  \n",
       "...               ...          ...      ...             ...  \n",
       "37061           25987        0.680        0               1  \n",
       "37062            1728        0.033        0               1  \n",
       "37063             636        0.038        0               1  \n",
       "37064           15016        0.289        0               1  \n",
       "37065            5453        0.682        0               1  \n",
       "\n",
       "[36920 rows x 14 columns]"
      ]
     },
     "execution_count": 6,
     "metadata": {},
     "output_type": "execute_result"
    }
   ],
   "source": [
    "df"
   ]
  },
  {
   "cell_type": "markdown",
   "id": "abde7684-1623-4674-82df-5fd9f24215ea",
   "metadata": {},
   "source": [
    "### **Dependent and Independent Data**"
   ]
  },
  {
   "cell_type": "code",
   "execution_count": 9,
   "id": "f5bffe9a-1c94-474d-a7dc-a86cabbaed1f",
   "metadata": {},
   "outputs": [],
   "source": [
    "X = df.iloc[:,:-1]\n",
    "y = df.iloc[:,-1]"
   ]
  },
  {
   "cell_type": "code",
   "execution_count": 10,
   "id": "06e16262-da27-4608-a143-d3ba5f41d2cf",
   "metadata": {},
   "outputs": [
    {
     "data": {
      "text/html": [
       "<div>\n",
       "<style scoped>\n",
       "    .dataframe tbody tr th:only-of-type {\n",
       "        vertical-align: middle;\n",
       "    }\n",
       "\n",
       "    .dataframe tbody tr th {\n",
       "        vertical-align: top;\n",
       "    }\n",
       "\n",
       "    .dataframe thead th {\n",
       "        text-align: right;\n",
       "    }\n",
       "</style>\n",
       "<table border=\"1\" class=\"dataframe\">\n",
       "  <thead>\n",
       "    <tr style=\"text-align: right;\">\n",
       "      <th></th>\n",
       "      <th>credit_policy</th>\n",
       "      <th>purpose</th>\n",
       "      <th>int_rate</th>\n",
       "      <th>installment</th>\n",
       "      <th>log_annual_inc</th>\n",
       "      <th>dti</th>\n",
       "      <th>fico</th>\n",
       "      <th>days_with_cr_line</th>\n",
       "      <th>revol_bal</th>\n",
       "      <th>revol_util</th>\n",
       "      <th>inq_last_6mths</th>\n",
       "      <th>delinq_2yrs</th>\n",
       "      <th>pub_rec</th>\n",
       "    </tr>\n",
       "  </thead>\n",
       "  <tbody>\n",
       "    <tr>\n",
       "      <th>0</th>\n",
       "      <td>1</td>\n",
       "      <td>credit_card</td>\n",
       "      <td>0.143</td>\n",
       "      <td>498.35</td>\n",
       "      <td>150000.0</td>\n",
       "      <td>15.70</td>\n",
       "      <td>694</td>\n",
       "      <td>37865</td>\n",
       "      <td>19748</td>\n",
       "      <td>0.674</td>\n",
       "      <td>3</td>\n",
       "      <td>5.000</td>\n",
       "      <td>0</td>\n",
       "    </tr>\n",
       "    <tr>\n",
       "      <th>1</th>\n",
       "      <td>1</td>\n",
       "      <td>home_improvement</td>\n",
       "      <td>0.110</td>\n",
       "      <td>870.29</td>\n",
       "      <td>55000.0</td>\n",
       "      <td>30.13</td>\n",
       "      <td>734</td>\n",
       "      <td>35947</td>\n",
       "      <td>11898</td>\n",
       "      <td>0.476</td>\n",
       "      <td>2</td>\n",
       "      <td>1.000</td>\n",
       "      <td>0</td>\n",
       "    </tr>\n",
       "    <tr>\n",
       "      <th>2</th>\n",
       "      <td>1</td>\n",
       "      <td>credit_card</td>\n",
       "      <td>0.088</td>\n",
       "      <td>785.32</td>\n",
       "      <td>165000.0</td>\n",
       "      <td>16.11</td>\n",
       "      <td>694</td>\n",
       "      <td>36373</td>\n",
       "      <td>20681</td>\n",
       "      <td>0.567</td>\n",
       "      <td>0</td>\n",
       "      <td>0.000</td>\n",
       "      <td>0</td>\n",
       "    </tr>\n",
       "    <tr>\n",
       "      <th>3</th>\n",
       "      <td>1</td>\n",
       "      <td>credit_card</td>\n",
       "      <td>0.170</td>\n",
       "      <td>285.03</td>\n",
       "      <td>40000.0</td>\n",
       "      <td>32.07</td>\n",
       "      <td>744</td>\n",
       "      <td>40269</td>\n",
       "      <td>8514</td>\n",
       "      <td>0.226</td>\n",
       "      <td>2</td>\n",
       "      <td>0.000</td>\n",
       "      <td>0</td>\n",
       "    </tr>\n",
       "    <tr>\n",
       "      <th>4</th>\n",
       "      <td>1</td>\n",
       "      <td>debt_consolidation</td>\n",
       "      <td>0.088</td>\n",
       "      <td>570.81</td>\n",
       "      <td>36000.0</td>\n",
       "      <td>23.73</td>\n",
       "      <td>714</td>\n",
       "      <td>38565</td>\n",
       "      <td>7555</td>\n",
       "      <td>0.256</td>\n",
       "      <td>1</td>\n",
       "      <td>0.000</td>\n",
       "      <td>0</td>\n",
       "    </tr>\n",
       "    <tr>\n",
       "      <th>...</th>\n",
       "      <td>...</td>\n",
       "      <td>...</td>\n",
       "      <td>...</td>\n",
       "      <td>...</td>\n",
       "      <td>...</td>\n",
       "      <td>...</td>\n",
       "      <td>...</td>\n",
       "      <td>...</td>\n",
       "      <td>...</td>\n",
       "      <td>...</td>\n",
       "      <td>...</td>\n",
       "      <td>...</td>\n",
       "      <td>...</td>\n",
       "    </tr>\n",
       "    <tr>\n",
       "      <th>37061</th>\n",
       "      <td>1</td>\n",
       "      <td>debt_consolidation</td>\n",
       "      <td>0.088</td>\n",
       "      <td>792.79</td>\n",
       "      <td>167000.0</td>\n",
       "      <td>24.66</td>\n",
       "      <td>694</td>\n",
       "      <td>37895</td>\n",
       "      <td>0</td>\n",
       "      <td>0.000</td>\n",
       "      <td>25987</td>\n",
       "      <td>0.680</td>\n",
       "      <td>0</td>\n",
       "    </tr>\n",
       "    <tr>\n",
       "      <th>37062</th>\n",
       "      <td>1</td>\n",
       "      <td>debt_consolidation</td>\n",
       "      <td>0.103</td>\n",
       "      <td>856.40</td>\n",
       "      <td>125000.0</td>\n",
       "      <td>11.73</td>\n",
       "      <td>744</td>\n",
       "      <td>31444</td>\n",
       "      <td>0</td>\n",
       "      <td>0.000</td>\n",
       "      <td>1728</td>\n",
       "      <td>0.033</td>\n",
       "      <td>0</td>\n",
       "    </tr>\n",
       "    <tr>\n",
       "      <th>37063</th>\n",
       "      <td>1</td>\n",
       "      <td>small_business</td>\n",
       "      <td>0.180</td>\n",
       "      <td>837.45</td>\n",
       "      <td>75000.0</td>\n",
       "      <td>9.02</td>\n",
       "      <td>694</td>\n",
       "      <td>40878</td>\n",
       "      <td>3</td>\n",
       "      <td>0.000</td>\n",
       "      <td>636</td>\n",
       "      <td>0.038</td>\n",
       "      <td>0</td>\n",
       "    </tr>\n",
       "    <tr>\n",
       "      <th>37064</th>\n",
       "      <td>1</td>\n",
       "      <td>debt_consolidation</td>\n",
       "      <td>0.110</td>\n",
       "      <td>458.48</td>\n",
       "      <td>32072.0</td>\n",
       "      <td>58.12</td>\n",
       "      <td>779</td>\n",
       "      <td>39539</td>\n",
       "      <td>0</td>\n",
       "      <td>0.000</td>\n",
       "      <td>15016</td>\n",
       "      <td>0.289</td>\n",
       "      <td>0</td>\n",
       "    </tr>\n",
       "    <tr>\n",
       "      <th>37065</th>\n",
       "      <td>1</td>\n",
       "      <td>debt_consolidation</td>\n",
       "      <td>0.164</td>\n",
       "      <td>353.55</td>\n",
       "      <td>30000.0</td>\n",
       "      <td>14.16</td>\n",
       "      <td>699</td>\n",
       "      <td>38626</td>\n",
       "      <td>0</td>\n",
       "      <td>0.000</td>\n",
       "      <td>5453</td>\n",
       "      <td>0.682</td>\n",
       "      <td>0</td>\n",
       "    </tr>\n",
       "  </tbody>\n",
       "</table>\n",
       "<p>36920 rows × 13 columns</p>\n",
       "</div>"
      ],
      "text/plain": [
       "       credit_policy             purpose  int_rate  installment  \\\n",
       "0                  1         credit_card     0.143       498.35   \n",
       "1                  1    home_improvement     0.110       870.29   \n",
       "2                  1         credit_card     0.088       785.32   \n",
       "3                  1         credit_card     0.170       285.03   \n",
       "4                  1  debt_consolidation     0.088       570.81   \n",
       "...              ...                 ...       ...          ...   \n",
       "37061              1  debt_consolidation     0.088       792.79   \n",
       "37062              1  debt_consolidation     0.103       856.40   \n",
       "37063              1      small_business     0.180       837.45   \n",
       "37064              1  debt_consolidation     0.110       458.48   \n",
       "37065              1  debt_consolidation     0.164       353.55   \n",
       "\n",
       "       log_annual_inc    dti  fico  days_with_cr_line  revol_bal  revol_util  \\\n",
       "0            150000.0  15.70   694              37865      19748       0.674   \n",
       "1             55000.0  30.13   734              35947      11898       0.476   \n",
       "2            165000.0  16.11   694              36373      20681       0.567   \n",
       "3             40000.0  32.07   744              40269       8514       0.226   \n",
       "4             36000.0  23.73   714              38565       7555       0.256   \n",
       "...               ...    ...   ...                ...        ...         ...   \n",
       "37061        167000.0  24.66   694              37895          0       0.000   \n",
       "37062        125000.0  11.73   744              31444          0       0.000   \n",
       "37063         75000.0   9.02   694              40878          3       0.000   \n",
       "37064         32072.0  58.12   779              39539          0       0.000   \n",
       "37065         30000.0  14.16   699              38626          0       0.000   \n",
       "\n",
       "       inq_last_6mths  delinq_2yrs  pub_rec  \n",
       "0                   3        5.000        0  \n",
       "1                   2        1.000        0  \n",
       "2                   0        0.000        0  \n",
       "3                   2        0.000        0  \n",
       "4                   1        0.000        0  \n",
       "...               ...          ...      ...  \n",
       "37061           25987        0.680        0  \n",
       "37062            1728        0.033        0  \n",
       "37063             636        0.038        0  \n",
       "37064           15016        0.289        0  \n",
       "37065            5453        0.682        0  \n",
       "\n",
       "[36920 rows x 13 columns]"
      ]
     },
     "execution_count": 10,
     "metadata": {},
     "output_type": "execute_result"
    }
   ],
   "source": [
    "X"
   ]
  },
  {
   "cell_type": "code",
   "execution_count": 11,
   "id": "69502b21-e8e4-4b8e-9d21-99626a75d899",
   "metadata": {},
   "outputs": [
    {
     "data": {
      "text/plain": [
       "0        0\n",
       "1        0\n",
       "2        0\n",
       "3        0\n",
       "4        1\n",
       "        ..\n",
       "37061    1\n",
       "37062    1\n",
       "37063    1\n",
       "37064    1\n",
       "37065    1\n",
       "Name: not_fully_paid, Length: 36920, dtype: int64"
      ]
     },
     "execution_count": 11,
     "metadata": {},
     "output_type": "execute_result"
    }
   ],
   "source": [
    "y"
   ]
  },
  {
   "cell_type": "markdown",
   "id": "e181060e-6725-4195-af4b-0125327e287b",
   "metadata": {},
   "source": [
    "### **Encoding Categorical Data**"
   ]
  },
  {
   "cell_type": "code",
   "execution_count": 12,
   "id": "87921159-3c65-4120-9855-baff01d1252c",
   "metadata": {},
   "outputs": [],
   "source": [
    "from sklearn.compose import ColumnTransformer\n",
    "from sklearn.preprocessing import OneHotEncoder\n",
    "ct = ColumnTransformer(transformers=[(\"encoder\", OneHotEncoder(), [1])], remainder=\"passthrough\")\n",
    "X = np.array(ct.fit_transform(X))"
   ]
  },
  {
   "cell_type": "code",
   "execution_count": 13,
   "id": "e5be3d46-f7d5-444c-93c2-ff17dd4a4c9e",
   "metadata": {},
   "outputs": [
    {
     "name": "stdout",
     "output_type": "stream",
     "text": [
      "[[0.0000e+00 1.0000e+00 0.0000e+00 ... 3.0000e+00 5.0000e+00 0.0000e+00]\n",
      " [0.0000e+00 0.0000e+00 0.0000e+00 ... 2.0000e+00 1.0000e+00 0.0000e+00]\n",
      " [0.0000e+00 1.0000e+00 0.0000e+00 ... 0.0000e+00 0.0000e+00 0.0000e+00]\n",
      " ...\n",
      " [0.0000e+00 0.0000e+00 0.0000e+00 ... 6.3600e+02 3.8000e-02 0.0000e+00]\n",
      " [0.0000e+00 0.0000e+00 1.0000e+00 ... 1.5016e+04 2.8900e-01 0.0000e+00]\n",
      " [0.0000e+00 0.0000e+00 1.0000e+00 ... 5.4530e+03 6.8200e-01 0.0000e+00]]\n"
     ]
    }
   ],
   "source": [
    "print(X)"
   ]
  },
  {
   "cell_type": "markdown",
   "id": "f5204235-3ed9-4e7b-b60a-40ac0284defd",
   "metadata": {},
   "source": [
    "### **Splitting Dataset**"
   ]
  },
  {
   "cell_type": "code",
   "execution_count": 14,
   "id": "f00ade06-cae9-49d9-929b-237278f5928a",
   "metadata": {},
   "outputs": [],
   "source": [
    "from sklearn.model_selection import train_test_split\n",
    "X_train, X_test, y_train, y_test = train_test_split(X, y, test_size=0.2, random_state=42)"
   ]
  },
  {
   "cell_type": "markdown",
   "id": "6dd2c012-e1f2-4253-8fa7-606eacf24f80",
   "metadata": {},
   "source": [
    "### **Feature Scaling**"
   ]
  },
  {
   "cell_type": "code",
   "execution_count": 15,
   "id": "01379247-ac11-4136-ae0d-a9db5bfe03be",
   "metadata": {},
   "outputs": [],
   "source": [
    "from sklearn.preprocessing import StandardScaler\n",
    "sc = StandardScaler()\n",
    "X_train[:,12:] = sc.fit_transform(X_train[:,12:])\n",
    "X_test[:,12:] = sc.transform(X_test[:,12:])"
   ]
  },
  {
   "cell_type": "code",
   "execution_count": 16,
   "id": "005e915d-9860-4f8c-8928-4623b676e6ea",
   "metadata": {},
   "outputs": [
    {
     "name": "stdout",
     "output_type": "stream",
     "text": [
      "[[ 0.          0.          1.         ...  0.00683163  0.9288942\n",
      "   2.69544863]\n",
      " [ 0.          0.          0.         ... -0.0207511   0.67376503\n",
      "  -0.35672016]\n",
      " [ 0.          0.          1.         ... -0.17871582  0.74961424\n",
      "  -0.35672016]\n",
      " ...\n",
      " [ 0.          0.          1.         ... -0.49284966 -0.08932403\n",
      "  -0.35672016]\n",
      " [ 0.          0.          1.         ... -0.58258081 -0.84092079\n",
      "  -0.35672016]\n",
      " [ 0.          0.          0.         ... -0.55340198 -0.74668389\n",
      "   2.69544863]]\n"
     ]
    }
   ],
   "source": [
    "print(X_train)"
   ]
  },
  {
   "cell_type": "code",
   "execution_count": 17,
   "id": "5367e2e3-1616-4aaa-b7f3-0c14f9ae5eca",
   "metadata": {},
   "outputs": [
    {
     "name": "stdout",
     "output_type": "stream",
     "text": [
      "[[ 0.          0.          1.         ...  0.70258471 -0.01347482\n",
      "  -0.35672016]\n",
      " [ 0.          0.          0.         ... -0.0334202  -0.11920403\n",
      "  -0.35672016]\n",
      " [ 0.          0.          1.         ...  0.00872701  0.68066041\n",
      "  -0.35672016]\n",
      " ...\n",
      " [ 0.          1.          0.         ...  0.69729761 -0.28929014\n",
      "  -0.35672016]\n",
      " [ 0.          0.          1.         ... -0.58253093 -0.84092079\n",
      "  -0.35672016]\n",
      " [ 0.          0.          0.         ...  1.66533659  1.10357724\n",
      "  -0.35672016]]\n"
     ]
    }
   ],
   "source": [
    "print(X_test)"
   ]
  },
  {
   "cell_type": "markdown",
   "id": "2b56f0de-5e7c-4b20-8487-e77491460a00",
   "metadata": {},
   "source": [
    "# **Modelling**"
   ]
  },
  {
   "cell_type": "markdown",
   "id": "e0954003-2828-457c-8481-601220dbb0a4",
   "metadata": {},
   "source": [
    "### **Train 01: Upsampling with SMOTE + Train model with Logistic Regression**"
   ]
  },
  {
   "cell_type": "code",
   "execution_count": 21,
   "id": "531099ea-b33b-4192-aab9-02cd8a4c6e0f",
   "metadata": {},
   "outputs": [
    {
     "data": {
      "text/plain": [
       "not_fully_paid\n",
       "1    21484\n",
       "0     8052\n",
       "Name: count, dtype: int64"
      ]
     },
     "execution_count": 21,
     "metadata": {},
     "output_type": "execute_result"
    }
   ],
   "source": [
    "# Before upsampling\n",
    "y_train.value_counts()"
   ]
  },
  {
   "cell_type": "code",
   "execution_count": 22,
   "id": "c11b7bd2-c1b0-412a-9dba-b678ee1f5ad4",
   "metadata": {},
   "outputs": [],
   "source": [
    "# Upsampling with SMOTE\n",
    "sm = SMOTE(k_neighbors=5)\n",
    "X_train_sample, y_train_sample = sm.fit_resample(X_train,y_train)"
   ]
  },
  {
   "cell_type": "code",
   "execution_count": 23,
   "id": "349b611f-3529-47ec-a26c-51280f52a8ab",
   "metadata": {},
   "outputs": [
    {
     "data": {
      "text/plain": [
       "not_fully_paid\n",
       "1    21484\n",
       "0    21484\n",
       "Name: count, dtype: int64"
      ]
     },
     "execution_count": 23,
     "metadata": {},
     "output_type": "execute_result"
    }
   ],
   "source": [
    "# After upsampling\n",
    "y_train_sample.value_counts()"
   ]
  },
  {
   "cell_type": "code",
   "execution_count": 24,
   "id": "db7cecf8-da30-4461-958b-015ec5387c34",
   "metadata": {},
   "outputs": [
    {
     "name": "stdout",
     "output_type": "stream",
     "text": [
      "              precision    recall  f1-score   support\n",
      "\n",
      "           0       0.71      0.66      0.69      2093\n",
      "           1       0.87      0.90      0.88      5291\n",
      "\n",
      "    accuracy                           0.83      7384\n",
      "   macro avg       0.79      0.78      0.78      7384\n",
      "weighted avg       0.82      0.83      0.83      7384\n",
      "\n"
     ]
    },
    {
     "data": {
      "text/plain": [
       "<sklearn.metrics._plot.confusion_matrix.ConfusionMatrixDisplay at 0x12be7507740>"
      ]
     },
     "execution_count": 24,
     "metadata": {},
     "output_type": "execute_result"
    },
    {
     "data": {
      "image/png": "[encoded data removed]",
      "text/plain": [
       "<Figure size 640x480 with 2 Axes>"
      ]
     },
     "metadata": {},
     "output_type": "display_data"
    }
   ],
   "source": [
    "# Import libraries\n",
    "from sklearn.metrics import classification_report\n",
    "from sklearn.linear_model import LogisticRegression\n",
    "from sklearn.metrics import ConfusionMatrixDisplay, confusion_matrix\n",
    "\n",
    "# Train model\n",
    "model_log = LogisticRegression()\n",
    "model_log.fit(X_train_sample, y_train_sample)\n",
    "y_pred_log = model_log.predict(X_test)\n",
    "\n",
    "# Metrics and confusion matrix\n",
    "print(classification_report(y_test, y_pred_log))\n",
    "cm_log = confusion_matrix(y_test, y_pred_log, labels=model_log.classes_)\n",
    "ConfusionMatrixDisplay(cm_log).plot()"
   ]
  },
  {
   "cell_type": "markdown",
   "id": "2e393508-b277-4698-9524-7e94a775ff41",
   "metadata": {},
   "source": [
    "### **Train 02: Not Upsampling and Train model with XGBoost**"
   ]
  },
  {
   "cell_type": "code",
   "execution_count": 25,
   "id": "e24074a6-3976-403b-89f6-86114e69ac72",
   "metadata": {},
   "outputs": [
    {
     "name": "stdout",
     "output_type": "stream",
     "text": [
      "              precision    recall  f1-score   support\n",
      "\n",
      "           0       0.73      0.64      0.68      2093\n",
      "           1       0.87      0.91      0.88      5291\n",
      "\n",
      "    accuracy                           0.83      7384\n",
      "   macro avg       0.80      0.77      0.78      7384\n",
      "weighted avg       0.83      0.83      0.83      7384\n",
      "\n"
     ]
    },
    {
     "data": {
      "text/plain": [
       "<sklearn.metrics._plot.confusion_matrix.ConfusionMatrixDisplay at 0x12be8759af0>"
      ]
     },
     "execution_count": 25,
     "metadata": {},
     "output_type": "execute_result"
    },
    {
     "data": {
      "image/png": "[encoded data removed]",
      "text/plain": [
       "<Figure size 640x480 with 2 Axes>"
      ]
     },
     "metadata": {},
     "output_type": "display_data"
    }
   ],
   "source": [
    "# Import library\n",
    "import xgboost as xgb\n",
    "\n",
    "# Train model\n",
    "model_xgb = xgb.XGBClassifier(random_state=42, n_estimators=200)\n",
    "model_xgb.fit(X_train, y_train)\n",
    "y_pred_xgb = model_xgb.predict(X_test)\n",
    "\n",
    "# Metrics and confusion matrix\n",
    "print(classification_report(y_test, y_pred_xgb))\n",
    "cm_xgb = confusion_matrix(y_test, y_pred_xgb, labels=model_xgb.classes_)\n",
    "ConfusionMatrixDisplay(cm_xgb).plot()"
   ]
  }
 ],
 "metadata": {
  "kernelspec": {
   "display_name": "Python 3 (ipykernel)",
   "language": "python",
   "name": "python3"
  },
  "language_info": {
   "codemirror_mode": {
    "name": "ipython",
    "version": 3
   },
   "file_extension": ".py",
   "mimetype": "text/x-python",
   "name": "python",
   "nbconvert_exporter": "python",
   "pygments_lexer": "ipython3",
   "version": "3.12.2"
  }
 },
 "nbformat": 4,
 "nbformat_minor": 5
}
